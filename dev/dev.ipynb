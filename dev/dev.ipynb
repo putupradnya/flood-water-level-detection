{
 "cells": [
  {
   "cell_type": "code",
   "execution_count": 2,
   "metadata": {},
   "outputs": [
    {
     "name": "stdout",
     "output_type": "stream",
     "text": [
      "Chat ID: 722696156\n"
     ]
    }
   ],
   "source": [
    "import requests\n",
    "\n",
    "# Ganti dengan token bot yang diberikan oleh BotFather\n",
    "TOKEN = \"7087796534:AAFK9xQqRHrXZ7Tfn2hdE2P_f1R1BAB_08w\"\n",
    "\n",
    "# Dapatkan update dari bot\n",
    "response = requests.get(f\"https://api.telegram.org/bot{TOKEN}/getUpdates\")\n",
    "data = response.json()\n",
    "\n",
    "# Ambil chat ID dari update terbaru\n",
    "if \"result\" in data and len(data[\"result\"]) > 0:\n",
    "    chat_id = data[\"result\"][-1][\"message\"][\"chat\"][\"id\"]\n",
    "    print(f\"Chat ID: {chat_id}\")\n",
    "else:\n",
    "    print(\"Belum ada pesan yang dikirim ke bot. Kirim pesan ke bot dulu!\")\n"
   ]
  },
  {
   "cell_type": "code",
   "execution_count": null,
   "metadata": {},
   "outputs": [],
   "source": [
    "Koordinat: (7, 9)\n",
    "Koordinat: (569, 10)\n",
    "Koordinat: (542, 994)\n",
    "Koordinat: (8, 996)"
   ]
  }
 ],
 "metadata": {
  "kernelspec": {
   "display_name": "venv",
   "language": "python",
   "name": "python3"
  },
  "language_info": {
   "codemirror_mode": {
    "name": "ipython",
    "version": 3
   },
   "file_extension": ".py",
   "mimetype": "text/x-python",
   "name": "python",
   "nbconvert_exporter": "python",
   "pygments_lexer": "ipython3",
   "version": "3.11.10"
  }
 },
 "nbformat": 4,
 "nbformat_minor": 2
}
